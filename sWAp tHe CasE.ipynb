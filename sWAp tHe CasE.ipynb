{
 "cells": [
  {
   "cell_type": "code",
   "execution_count": null,
   "id": "35bb41a9",
   "metadata": {},
   "outputs": [],
   "source": [
    "def swap_case(s):\n",
    "    strg=''\n",
    "    for i in s:\n",
    "        if i.upper()!=i:\n",
    "            strg += i.upper()\n",
    "        else:\n",
    "            strg += i.lower()\n",
    "    return strg\n",
    "\n",
    "if __name__ == '__main__':\n",
    "    s = input()\n",
    "    result = swap_case(s)\n",
    "    print(result)"
   ]
  }
 ],
 "metadata": {
  "kernelspec": {
   "display_name": "Python 3 (ipykernel)",
   "language": "python",
   "name": "python3"
  },
  "language_info": {
   "codemirror_mode": {
    "name": "ipython",
    "version": 3
   },
   "file_extension": ".py",
   "mimetype": "text/x-python",
   "name": "python",
   "nbconvert_exporter": "python",
   "pygments_lexer": "ipython3",
   "version": "3.9.13"
  }
 },
 "nbformat": 4,
 "nbformat_minor": 5
}
