{
 "cells": [
  {
   "cell_type": "code",
   "execution_count": 32,
   "id": "24269def",
   "metadata": {},
   "outputs": [
    {
     "name": "stdout",
     "output_type": "stream",
     "text": [
      "Enter Two String to find largest sub string: nirbhay tules\n"
     ]
    },
    {
     "data": {
      "text/plain": [
       "'No Matching Sub-String'"
      ]
     },
     "execution_count": 32,
     "metadata": {},
     "output_type": "execute_result"
    }
   ],
   "source": [
    "def Substr_in_str(s1,s2):\n",
    "    fst=len(s1)\n",
    "    snd=len(s2)\n",
    "    if fst>snd:\n",
    "        temp=fst-snd-1\n",
    "        p=snd+1\n",
    "        for i in range(snd):\n",
    "            temp+=1\n",
    "            p-=1\n",
    "            for j in range(temp+1):\n",
    "                for k in range(fst):\n",
    "                    if s2[j:p+j]==s1[k:p+k]:\n",
    "                        return f'Longest String is ({s2[j:p+j]}) and size in {len(s2[j:p+j])}'\n",
    "        return 'No Matching Sub-String'\n",
    "    else:\n",
    "        temp=snd-fst-1\n",
    "        p=snd+1\n",
    "        for i in range(fst):\n",
    "            temp+=1\n",
    "            p-=1\n",
    "            for j in range(temp+1):\n",
    "                for k in range(snd):\n",
    "                    if s1[j:p+j]==s2[k:p+k]:\n",
    "                        return f'Longest String is ({s1[j:p+j]}) and size in {len(s1[j:p+j])}'\n",
    "        return 'No Matching Sub-String'\n",
    "inp=input('Enter Two String to find largest sub string: ').split(' ')\n",
    "Substr_in_str(inp[0],inp[1])"
   ]
  },
  {
   "cell_type": "code",
   "execution_count": null,
   "id": "726e9bae",
   "metadata": {},
   "outputs": [],
   "source": []
  }
 ],
 "metadata": {
  "kernelspec": {
   "display_name": "Python 3 (ipykernel)",
   "language": "python",
   "name": "python3"
  },
  "language_info": {
   "codemirror_mode": {
    "name": "ipython",
    "version": 3
   },
   "file_extension": ".py",
   "mimetype": "text/x-python",
   "name": "python",
   "nbconvert_exporter": "python",
   "pygments_lexer": "ipython3",
   "version": "3.9.13"
  }
 },
 "nbformat": 4,
 "nbformat_minor": 5
}
