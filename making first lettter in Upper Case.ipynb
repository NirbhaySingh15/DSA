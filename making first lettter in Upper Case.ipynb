{
 "cells": [
  {
   "cell_type": "code",
   "execution_count": 11,
   "id": "0d679dcc",
   "metadata": {},
   "outputs": [
    {
     "name": "stdout",
     "output_type": "stream",
     "text": [
      "Enter the Text: nirbhay  is my name u .\n",
      "Nirbhay Is My Name U .\n"
     ]
    }
   ],
   "source": [
    "def solve(s):\n",
    "    lst=s.split()\n",
    "    rpt=[]\n",
    "    for i in lst:\n",
    "        if i=='':\n",
    "            rpt.append(i)\n",
    "        elif i.isdigit():\n",
    "            rpt.append(i)\n",
    "        else:\n",
    "            temp=list(i)\n",
    "            temp[0]=temp[0].upper()\n",
    "            st=''.join(temp)\n",
    "            rpt.append(st)\n",
    "    return ' '.join(rpt)\n",
    "\n",
    "if __name__ == '__main__':\n",
    "    s = input(\"Enter the Text: \")\n",
    "    print(solve(s))"
   ]
  }
 ],
 "metadata": {
  "kernelspec": {
   "display_name": "Python 3 (ipykernel)",
   "language": "python",
   "name": "python3"
  },
  "language_info": {
   "codemirror_mode": {
    "name": "ipython",
    "version": 3
   },
   "file_extension": ".py",
   "mimetype": "text/x-python",
   "name": "python",
   "nbconvert_exporter": "python",
   "pygments_lexer": "ipython3",
   "version": "3.9.13"
  }
 },
 "nbformat": 4,
 "nbformat_minor": 5
}
