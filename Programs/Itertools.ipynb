{
 "cells": [
  {
   "cell_type": "code",
   "execution_count": 21,
   "id": "0b0e5e73",
   "metadata": {},
   "outputs": [
    {
     "name": "stdout",
     "output_type": "stream",
     "text": [
      "12 45\n",
      "6 9\n",
      "(12, 6) (12, 9) (45, 6) (45, 9) "
     ]
    }
   ],
   "source": [
    "from itertools import product\n",
    "if __name__=='__main__':\n",
    "    a=map(int,input().split())\n",
    "    b=map(int,input().split())\n",
    "    c=list(product(a,b))\n",
    "    for i in c:\n",
    "        print(i,end=\" \")"
   ]
  },
  {
   "cell_type": "code",
   "execution_count": 22,
   "id": "3e515221",
   "metadata": {},
   "outputs": [
    {
     "name": "stdout",
     "output_type": "stream",
     "text": [
      "HACK 2\n",
      "AC\n",
      "AH\n",
      "AK\n",
      "CA\n",
      "CH\n",
      "CK\n",
      "HA\n",
      "HC\n",
      "HK\n",
      "KA\n",
      "KC\n",
      "KH\n"
     ]
    }
   ],
   "source": [
    "from itertools import permutations\n",
    "if __name__ == '__main__':\n",
    "    strg=input().split()\n",
    "    lst=list(strg[0])\n",
    "    rslt=list(permutations(sorted(lst),int(strg[1])))\n",
    "    for i in rslt:\n",
    "        for j in i:\n",
    "            print(j,end='')\n",
    "        print('\\r')"
   ]
  },
  {
   "cell_type": "code",
   "execution_count": 23,
   "id": "fdb457de",
   "metadata": {},
   "outputs": [
    {
     "name": "stdout",
     "output_type": "stream",
     "text": [
      "HACK 2\n",
      "[('A', 'C'), ('A', 'H'), ('A', 'K'), ('C', 'H'), ('C', 'K'), ('H', 'K')]\n"
     ]
    }
   ],
   "source": [
    "from itertools import combinations\n",
    "strg=input().split()\n",
    "lst=sorted(list(strg[0]))\n",
    "for l in range(len(lst))\n",
    "    temp=[]\n",
    "    for k in range(len(lst)):\n",
    "        \n",
    "        \n",
    "    rst=list(combinations(lst,int(strg[1])))\n",
    "    for i in rst:\n",
    "        for j in i:\n",
    "            print(j,end='')\n",
    "    print('\\r')"
   ]
  },
  {
   "cell_type": "code",
   "execution_count": 30,
   "id": "6b14abb9",
   "metadata": {},
   "outputs": [
    {
     "name": "stdout",
     "output_type": "stream",
     "text": [
      "Counter({4: 5, 7: 3, 6: 3, 5: 2, 3: 2, 2: 2, 1: 1, 9: 1, 8: 1, 98: 1, 34: 1, 54: 1})\n"
     ]
    }
   ],
   "source": [
    "from collections import Counter\n",
    "lst=[1,7,9,6,4,5,3,6,8,4,2,6,98,4,34,7,4,3,4,5,2,54,7]\n",
    "rslt=Counter(lst)\n",
    "print(rslt)"
   ]
  },
  {
   "cell_type": "code",
   "execution_count": null,
   "id": "51f8f257",
   "metadata": {},
   "outputs": [],
   "source": []
  }
 ],
 "metadata": {
  "kernelspec": {
   "display_name": "Python 3 (ipykernel)",
   "language": "python",
   "name": "python3"
  },
  "language_info": {
   "codemirror_mode": {
    "name": "ipython",
    "version": 3
   },
   "file_extension": ".py",
   "mimetype": "text/x-python",
   "name": "python",
   "nbconvert_exporter": "python",
   "pygments_lexer": "ipython3",
   "version": "3.9.13"
  }
 },
 "nbformat": 4,
 "nbformat_minor": 5
}
