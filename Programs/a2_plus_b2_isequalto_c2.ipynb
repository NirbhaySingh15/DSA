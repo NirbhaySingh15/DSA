{
 "cells": [
  {
   "cell_type": "raw",
   "id": "20102d38",
   "metadata": {},
   "source": [
    "if list element have a2+b2=c2 relation print True or print False "
   ]
  },
  {
   "cell_type": "code",
   "execution_count": 1,
   "id": "d325af76",
   "metadata": {},
   "outputs": [
    {
     "name": "stdout",
     "output_type": "stream",
     "text": [
      "TRUE 9 + 16 = 25\n"
     ]
    }
   ],
   "source": [
    "def a2_plus_b2_isequalto_c2(arr):\n",
    "    result=[]\n",
    "    for i in arr:\n",
    "        if pow(i,2) not in result:\n",
    "            result.append(pow(i,2))\n",
    "    for j in range(len(result)):\n",
    "        for k in range(j+1,len(result)):\n",
    "            if (result[j]+result[k]) in result:\n",
    "                return f'TRUE {result[j]} + {result[k]} = {result[j]+result[k]}'\n",
    "    return 'FALSE'\n",
    "\n",
    "if __name__ == '__main__':\n",
    "    array=[1,2,3,4,5,6,7,8,9,2,6,9,3]\n",
    "    result=a2_plus_b2_isequalto_c2(array)\n",
    "    print(result)"
   ]
  }
 ],
 "metadata": {
  "kernelspec": {
   "display_name": "Python 3 (ipykernel)",
   "language": "python",
   "name": "python3"
  },
  "language_info": {
   "codemirror_mode": {
    "name": "ipython",
    "version": 3
   },
   "file_extension": ".py",
   "mimetype": "text/x-python",
   "name": "python",
   "nbconvert_exporter": "python",
   "pygments_lexer": "ipython3",
   "version": "3.9.13"
  }
 },
 "nbformat": 4,
 "nbformat_minor": 5
}
