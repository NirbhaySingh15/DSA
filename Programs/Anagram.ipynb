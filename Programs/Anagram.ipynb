{
 "cells": [
  {
   "cell_type": "code",
   "execution_count": 33,
   "id": "caaa96ac",
   "metadata": {},
   "outputs": [
    {
     "name": "stdout",
     "output_type": "stream",
     "text": [
      "Aanagram\n"
     ]
    }
   ],
   "source": [
    "s1='silent'\n",
    "s2='listen'\n",
    "if len(s1)==len(s2) and sorted(s1)==sorted(s2):\n",
    "    print('Aanagram')\n",
    "else:\n",
    "    print('Not Aanagram')"
   ]
  },
  {
   "cell_type": "code",
   "execution_count": 30,
   "id": "1ab4b776",
   "metadata": {},
   "outputs": [
    {
     "name": "stdout",
     "output_type": "stream",
     "text": [
      "Enter Two string: #$@! !@#$\n"
     ]
    },
    {
     "data": {
      "text/plain": [
       "'Anagram'"
      ]
     },
     "execution_count": 30,
     "metadata": {},
     "output_type": "execute_result"
    }
   ],
   "source": [
    "def anagram(s1,s2):\n",
    "    index=1\n",
    "    l={}\n",
    "    if len(s1)==len(s2):\n",
    "        for i in s1:\n",
    "            if i in l:\n",
    "                l[i]+=1\n",
    "            else:\n",
    "                l[i]=1\n",
    "        for j in s2:\n",
    "            if j in l:\n",
    "                if l[j]==0:\n",
    "                    return 'Not Anagram'\n",
    "                else:\n",
    "                    l[j]-=1\n",
    "            else:\n",
    "                return 'Not Anagram'\n",
    "    else:\n",
    "        return 'Not Anagram'\n",
    "    return 'Anagram'\n",
    "\n",
    "inp=input('Enter Two string: ').split(' ')\n",
    "anagram(inp[0],inp[1])"
   ]
  }
 ],
 "metadata": {
  "kernelspec": {
   "display_name": "Python 3 (ipykernel)",
   "language": "python",
   "name": "python3"
  },
  "language_info": {
   "codemirror_mode": {
    "name": "ipython",
    "version": 3
   },
   "file_extension": ".py",
   "mimetype": "text/x-python",
   "name": "python",
   "nbconvert_exporter": "python",
   "pygments_lexer": "ipython3",
   "version": "3.9.13"
  }
 },
 "nbformat": 4,
 "nbformat_minor": 5
}
