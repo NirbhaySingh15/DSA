{
 "cells": [
  {
   "cell_type": "code",
   "execution_count": 9,
   "id": "8b499920",
   "metadata": {},
   "outputs": [
    {
     "name": "stdout",
     "output_type": "stream",
     "text": [
      "Enter the Year: 2028\n",
      "2028 IS LEAP YEAR\n"
     ]
    }
   ],
   "source": [
    "def LeapYear(year):\n",
    "    if year%400 == 0 or (year%4 == 0 and year%100 != 0):\n",
    "        return f'{year} IS LEAP YEAR'\n",
    "    else:\n",
    "        return f'{year} IS NOT LEAP YEAR'\n",
    "    \n",
    "if __name__ == '__main__':\n",
    "    YEAR=int(input('Enter the Year: '))\n",
    "    result=LeapYear(YEAR)\n",
    "    print(result)"
   ]
  }
 ],
 "metadata": {
  "kernelspec": {
   "display_name": "Python 3 (ipykernel)",
   "language": "python",
   "name": "python3"
  },
  "language_info": {
   "codemirror_mode": {
    "name": "ipython",
    "version": 3
   },
   "file_extension": ".py",
   "mimetype": "text/x-python",
   "name": "python",
   "nbconvert_exporter": "python",
   "pygments_lexer": "ipython3",
   "version": "3.9.13"
  }
 },
 "nbformat": 4,
 "nbformat_minor": 5
}
