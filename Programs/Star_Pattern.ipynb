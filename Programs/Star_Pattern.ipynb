{
 "cells": [
  {
   "cell_type": "markdown",
   "id": "72a3a3d7",
   "metadata": {},
   "source": [
    "## 1."
   ]
  },
  {
   "cell_type": "raw",
   "id": "ec8276a5",
   "metadata": {},
   "source": [
    "                                            * \n",
    "                                            * * \n",
    "                                            * * * \n",
    "                                            * * * * \n",
    "                                            * * * * *"
   ]
  },
  {
   "cell_type": "code",
   "execution_count": 5,
   "id": "274ec11a",
   "metadata": {},
   "outputs": [
    {
     "name": "stdout",
     "output_type": "stream",
     "text": [
      "Enter the Triangle size: 5\n",
      "* \n",
      "* * \n",
      "* * * \n",
      "* * * * \n",
      "* * * * * \n"
     ]
    }
   ],
   "source": [
    "n=int(input('Enter the Triangle size: '))\n",
    "for i in range(1,n+1):\n",
    "    print('* '*i)"
   ]
  },
  {
   "cell_type": "raw",
   "id": "774a5be8",
   "metadata": {},
   "source": [
    "                                            * * * * * \n",
    "                                            * * * * \n",
    "                                            * * * \n",
    "                                            * * \n",
    "                                            * "
   ]
  },
  {
   "cell_type": "code",
   "execution_count": 21,
   "id": "d8ec4d0f",
   "metadata": {},
   "outputs": [
    {
     "name": "stdout",
     "output_type": "stream",
     "text": [
      "* * * * * \n",
      "* * * * \n",
      "* * * \n",
      "* * \n",
      "* \n"
     ]
    }
   ],
   "source": [
    "n=int(input('Enter the Triangle size: '))\n",
    "for i in range(n,0,-1):\n",
    "    print('* '*i)"
   ]
  },
  {
   "cell_type": "raw",
   "id": "8b910973",
   "metadata": {},
   "source": [
    "                                            * \n",
    "                                            * * \n",
    "                                            * * * \n",
    "                                            * * * * \n",
    "                                            * * * * * \n",
    "                                            * * * * \n",
    "                                            * * * \n",
    "                                            * * \n",
    "                                            *"
   ]
  },
  {
   "cell_type": "code",
   "execution_count": 22,
   "id": "e1a0f773",
   "metadata": {},
   "outputs": [
    {
     "name": "stdout",
     "output_type": "stream",
     "text": [
      "Enter the Triangle size: 5\n",
      "* \n",
      "* * \n",
      "* * * \n",
      "* * * * \n",
      "* * * * * \n",
      "* * * * \n",
      "* * * \n",
      "* * \n",
      "* \n"
     ]
    }
   ],
   "source": [
    "n=int(input('Enter the Triangle size: '))\n",
    "for i in range(1,n+1):\n",
    "    print('* '*i)\n",
    "for i in range(n-1,0,-1):\n",
    "    print('* '*i)"
   ]
  },
  {
   "cell_type": "markdown",
   "id": "de045fec",
   "metadata": {},
   "source": [
    "## 2."
   ]
  },
  {
   "cell_type": "raw",
   "id": "e955e479",
   "metadata": {},
   "source": [
    "                                                      * \n",
    "                                                    * * \n",
    "                                                  * * * \n",
    "                                                * * * * \n",
    "                                              * * * * * "
   ]
  },
  {
   "cell_type": "code",
   "execution_count": 32,
   "id": "82db858d",
   "metadata": {},
   "outputs": [
    {
     "name": "stdout",
     "output_type": "stream",
     "text": [
      "Enter the Triangle size: 5\n",
      "        * \n",
      "      * * \n",
      "    * * * \n",
      "  * * * * \n",
      "* * * * * \n"
     ]
    }
   ],
   "source": [
    "n=int(input('Enter the Triangle size: '))\n",
    "rl=n*2-2\n",
    "for i in range(1,n+1):\n",
    "    for j in range(rl):\n",
    "        print(end=' ')\n",
    "    rl-=2\n",
    "    for k in range(i):\n",
    "        print(end='* ')\n",
    "    print()"
   ]
  },
  {
   "cell_type": "raw",
   "id": "2e1f4d19",
   "metadata": {},
   "source": [
    "                                                * * * * * \n",
    "                                                  * * * * \n",
    "                                                    * * * \n",
    "                                                      * * \n",
    "                                                        *"
   ]
  },
  {
   "cell_type": "code",
   "execution_count": 19,
   "id": "a282cdf0",
   "metadata": {},
   "outputs": [
    {
     "name": "stdout",
     "output_type": "stream",
     "text": [
      "* * * * * \n",
      "  * * * * \n",
      "    * * * \n",
      "      * * \n",
      "        * \n"
     ]
    }
   ],
   "source": [
    "n=5\n",
    "s=0\n",
    "for i in range(n,0,-1):\n",
    "    for j in range(s):\n",
    "        print(end=' ')\n",
    "    s+=2\n",
    "    for k in range(i):\n",
    "        print(end='* ')\n",
    "    print()"
   ]
  },
  {
   "cell_type": "raw",
   "id": "68dec895",
   "metadata": {},
   "source": [
    "                                                         * \n",
    "                                                       * * \n",
    "                                                     * * * \n",
    "                                                   * * * * \n",
    "                                                 * * * * * \n",
    "                                                   * * * * \n",
    "                                                     * * * \n",
    "                                                       * * \n",
    "                                                         *"
   ]
  },
  {
   "cell_type": "code",
   "execution_count": 67,
   "id": "9e9ec6f5",
   "metadata": {},
   "outputs": [
    {
     "name": "stdout",
     "output_type": "stream",
     "text": [
      "Enter the Triangle size: 5\n",
      "         * \n",
      "       * * \n",
      "     * * * \n",
      "   * * * * \n",
      " * * * * * \n",
      "   * * * * \n",
      "     * * * \n",
      "       * * \n",
      "         * \n"
     ]
    }
   ],
   "source": [
    "n=int(input('Enter the Triangle size: '))\n",
    "rl=n*2-1\n",
    "s=3\n",
    "for i in range(1,n+1):\n",
    "    for j in range(rl):\n",
    "        print(end=' ')\n",
    "    rl-=2\n",
    "    for k in range(i):\n",
    "        print(end='* ')\n",
    "    print()\n",
    "for i in range(n-1,0,-1):\n",
    "    for j in range(s):\n",
    "        print(end=' ')\n",
    "    s+=2\n",
    "    for k in range(i):\n",
    "        print(end='* ')\n",
    "    print()"
   ]
  },
  {
   "cell_type": "markdown",
   "id": "258997b2",
   "metadata": {},
   "source": [
    "## 3."
   ]
  },
  {
   "cell_type": "raw",
   "id": "6ee2cda4",
   "metadata": {},
   "source": [
    "                                                            * \n",
    "                                                           * * \n",
    "                                                          * * * \n",
    "                                                         * * * * \n",
    "                                                        * * * * *"
   ]
  },
  {
   "cell_type": "code",
   "execution_count": 14,
   "id": "a9dac5b8",
   "metadata": {},
   "outputs": [
    {
     "name": "stdout",
     "output_type": "stream",
     "text": [
      "Enter the Triangle size: 5\n",
      "    * \n",
      "   * * \n",
      "  * * * \n",
      " * * * * \n",
      "* * * * * \n"
     ]
    }
   ],
   "source": [
    "n=int(input('Enter the Triangle size: '))\n",
    "rl=n-1\n",
    "for i in range(1,n+1):\n",
    "    for j in range(rl):\n",
    "        print(end=' ')\n",
    "    rl-=1\n",
    "    for k in range(i):\n",
    "        print(end=\"* \")\n",
    "    print()"
   ]
  },
  {
   "cell_type": "raw",
   "id": "49aa4514",
   "metadata": {},
   "source": [
    "                                                        * * * * * \n",
    "                                                         * * * * \n",
    "                                                          * * * \n",
    "                                                           * * \n",
    "                                                            *"
   ]
  },
  {
   "cell_type": "code",
   "execution_count": 44,
   "id": "ff979152",
   "metadata": {},
   "outputs": [
    {
     "name": "stdout",
     "output_type": "stream",
     "text": [
      "Enter the Triangle size: 5\n",
      "* * * * * \n",
      " * * * * \n",
      "  * * * \n",
      "   * * \n",
      "    * \n"
     ]
    }
   ],
   "source": [
    "n=int(input('Enter the Triangle size: '))\n",
    "rl=0\n",
    "for i in range(n,0,-1):\n",
    "    for j in range(rl):\n",
    "        print(end=' ')\n",
    "    rl+=1\n",
    "    for k in range(i):\n",
    "        print(end=\"* \")\n",
    "    print()"
   ]
  },
  {
   "cell_type": "raw",
   "id": "f5d47b32",
   "metadata": {},
   "source": [
    "                                                            * \n",
    "                                                           * * \n",
    "                                                          * * * \n",
    "                                                         * * * * \n",
    "                                                        * * * * * \n",
    "                                                         * * * * \n",
    "                                                          * * * \n",
    "                                                           * * \n",
    "                                                            *"
   ]
  },
  {
   "cell_type": "code",
   "execution_count": 43,
   "id": "c44794c2",
   "metadata": {},
   "outputs": [
    {
     "name": "stdout",
     "output_type": "stream",
     "text": [
      "Enter the Triangle size: 5\n",
      "    * \n",
      "   * * \n",
      "  * * * \n",
      " * * * * \n",
      "* * * * * \n",
      " * * * * \n",
      "  * * * \n",
      "   * * \n",
      "    * \n"
     ]
    }
   ],
   "source": [
    "n=int(input('Enter the Triangle size: '))\n",
    "rl=n-1\n",
    "for i in range(1,n+1):\n",
    "    for j in range(rl):\n",
    "        print(end=' ')\n",
    "    rl-=1\n",
    "    for k in range(i):\n",
    "        print(end=\"* \")\n",
    "    print()\n",
    "rl=1\n",
    "for i in range(n-1,0,-1):\n",
    "    for j in range(rl):\n",
    "        print(end=' ')\n",
    "    rl+=1\n",
    "    for k in range(i):\n",
    "        print(end=\"* \")\n",
    "    print()"
   ]
  },
  {
   "cell_type": "markdown",
   "id": "201b2ef4",
   "metadata": {},
   "source": [
    "## 4."
   ]
  },
  {
   "cell_type": "raw",
   "id": "5b791ab0",
   "metadata": {},
   "source": [
    "                                                    3 \n",
    "                                                   3 3 \n",
    "                                                  3 3 3 \n",
    "                                                 3 3 3 3 \n",
    "                                                3 3 3 3 3"
   ]
  },
  {
   "cell_type": "code",
   "execution_count": 49,
   "id": "58e7a8e2",
   "metadata": {},
   "outputs": [
    {
     "name": "stdout",
     "output_type": "stream",
     "text": [
      "Enter the Triangle size and Number you want to print: 5 3\n",
      "    3 \n",
      "   3 3 \n",
      "  3 3 3 \n",
      " 3 3 3 3 \n",
      "3 3 3 3 3 \n"
     ]
    }
   ],
   "source": [
    "n,num=list(map(int,input('Enter the Triangle size and Number you want to print: ').split()))\n",
    "rl=n-1\n",
    "for i in range(1,n+1):\n",
    "    for j in range(rl):\n",
    "        print(end=' ')\n",
    "    rl-=1\n",
    "    for k in range(i):\n",
    "        print(num,end=\" \")\n",
    "    print()"
   ]
  },
  {
   "cell_type": "markdown",
   "id": "a0e5c745",
   "metadata": {},
   "source": [
    "## 5."
   ]
  },
  {
   "cell_type": "raw",
   "id": "470eba19",
   "metadata": {},
   "source": [
    "                                                        0 \n",
    "                                                       1 2 \n",
    "                                                      3 4 5 \n",
    "                                                     6 7 8 9"
   ]
  },
  {
   "cell_type": "code",
   "execution_count": 54,
   "id": "2a44bd29",
   "metadata": {},
   "outputs": [
    {
     "name": "stdout",
     "output_type": "stream",
     "text": [
      "Enter the Triangle size: 5\n",
      "     \n",
      "    0 \n",
      "   1 2 \n",
      "  3 4 5 \n",
      " 6 7 8 9 \n"
     ]
    }
   ],
   "source": [
    "n=int(input('Enter the Triangle size: '))\n",
    "rl=n\n",
    "num=0\n",
    "for i in range(n):\n",
    "    for j in range(rl):\n",
    "        print(end=' ')\n",
    "    rl-=1\n",
    "    for k in range(i):\n",
    "        print(num,end=\" \")\n",
    "        num+=1\n",
    "    print()"
   ]
  }
 ],
 "metadata": {
  "kernelspec": {
   "display_name": "Python 3 (ipykernel)",
   "language": "python",
   "name": "python3"
  },
  "language_info": {
   "codemirror_mode": {
    "name": "ipython",
    "version": 3
   },
   "file_extension": ".py",
   "mimetype": "text/x-python",
   "name": "python",
   "nbconvert_exporter": "python",
   "pygments_lexer": "ipython3",
   "version": "3.9.13"
  }
 },
 "nbformat": 4,
 "nbformat_minor": 5
}
