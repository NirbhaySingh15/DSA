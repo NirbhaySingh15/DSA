{
 "cells": [
  {
   "cell_type": "code",
   "execution_count": 1,
   "id": "093c135a",
   "metadata": {},
   "outputs": [
    {
     "name": "stdout",
     "output_type": "stream",
     "text": [
      "Enter the size of pattern: 5\n",
      "* \n",
      "* * \n",
      "* * * \n",
      "* * * * \n",
      "* * * * * \n"
     ]
    }
   ],
   "source": [
    "n=int(input('Enter the size of pattern: '))\n",
    "for i in range(1,n+1):\n",
    "    print('* '*i)"
   ]
  },
  {
   "cell_type": "code",
   "execution_count": 2,
   "id": "35ab2741",
   "metadata": {},
   "outputs": [
    {
     "name": "stdout",
     "output_type": "stream",
     "text": [
      "Enter the size of pattern: 5\n",
      "         * \n",
      "       * * \n",
      "     * * * \n",
      "   * * * * \n",
      " * * * * * \n"
     ]
    }
   ],
   "source": [
    "n=int(input('Enter the size of pattern: '))\n",
    "j=n*2-1\n",
    "for i in range(1,n+1):\n",
    "    print(' '*j+'* '*i)\n",
    "    j-=2"
   ]
  },
  {
   "cell_type": "code",
   "execution_count": 3,
   "id": "108cdaa5",
   "metadata": {},
   "outputs": [
    {
     "name": "stdout",
     "output_type": "stream",
     "text": [
      "Enter the size of pattern: 5\n",
      "    * \n",
      "   * * \n",
      "  * * * \n",
      " * * * * \n",
      "* * * * * \n"
     ]
    }
   ],
   "source": [
    "n=int(input('Enter the size of pattern: '))\n",
    "j=n-1\n",
    "for i in range(1,n+1):\n",
    "    print(' '*j+'* '*i)\n",
    "    j-=1"
   ]
  },
  {
   "cell_type": "code",
   "execution_count": 4,
   "id": "4833f6dc",
   "metadata": {},
   "outputs": [
    {
     "name": "stdout",
     "output_type": "stream",
     "text": [
      "Enter the size of pattern: 5\n",
      "* * * * * \n",
      " * * * * \n",
      "  * * * \n",
      "   * * \n",
      "    * \n"
     ]
    }
   ],
   "source": [
    "n=int(input('Enter the size of pattern: '))\n",
    "j=0\n",
    "for i in range(n,0,-1):\n",
    "    print(' '*j+'* '*i)\n",
    "    j+=1"
   ]
  },
  {
   "cell_type": "code",
   "execution_count": 5,
   "id": "422e304d",
   "metadata": {},
   "outputs": [
    {
     "name": "stdout",
     "output_type": "stream",
     "text": [
      "Enter the size of pattern: 5\n",
      "* \n",
      "* * \n",
      "* * * \n",
      "* * * * \n",
      "* * * * * \n",
      "* * * * \n",
      "* * * \n",
      "* * \n",
      "* \n"
     ]
    }
   ],
   "source": [
    "n=int(input('Enter the size of pattern: '))\n",
    "for i in range(1,n+1):\n",
    "    print('* '*i)\n",
    "for i in range(n-1,0,-1):\n",
    "    print('* '*i)"
   ]
  },
  {
   "cell_type": "code",
   "execution_count": 6,
   "id": "bf228e1f",
   "metadata": {},
   "outputs": [
    {
     "name": "stdout",
     "output_type": "stream",
     "text": [
      "Enter the size of pattern: 5\n",
      "        * \n",
      "      * * \n",
      "    * * * \n",
      "  * * * * \n",
      "* * * * * \n",
      "  * * * * \n",
      "    * * * \n",
      "      * * \n",
      "        * \n"
     ]
    }
   ],
   "source": [
    "n=int(input('Enter the size of pattern: '))\n",
    "j=n*2-2\n",
    "for i in range(1,n+1):\n",
    "    print(' '*j+'* '*i)\n",
    "    j-=2\n",
    "j=2\n",
    "for i in range(n-1,0,-1):\n",
    "    print(' '*j+'* '*i)\n",
    "    j+=2"
   ]
  },
  {
   "cell_type": "code",
   "execution_count": 7,
   "id": "9d004935",
   "metadata": {},
   "outputs": [
    {
     "name": "stdout",
     "output_type": "stream",
     "text": [
      "Enter the size of pattern: 5\n",
      "    * \n",
      "   * * \n",
      "  * * * \n",
      " * * * * \n",
      "* * * * * \n",
      " * * * * \n",
      "  * * * \n",
      "   * * \n",
      "    * \n"
     ]
    }
   ],
   "source": [
    "n=int(input('Enter the size of pattern: '))\n",
    "j=n-1\n",
    "for i in range(1,n+1):\n",
    "    print(' '*j+'* '*i)\n",
    "    j-=1\n",
    "j=1\n",
    "for i in range(n-1,0,-1):\n",
    "    print(' '*j+'* '*i)\n",
    "    j+=1"
   ]
  }
 ],
 "metadata": {
  "kernelspec": {
   "display_name": "Python 3 (ipykernel)",
   "language": "python",
   "name": "python3"
  },
  "language_info": {
   "codemirror_mode": {
    "name": "ipython",
    "version": 3
   },
   "file_extension": ".py",
   "mimetype": "text/x-python",
   "name": "python",
   "nbconvert_exporter": "python",
   "pygments_lexer": "ipython3",
   "version": "3.9.13"
  }
 },
 "nbformat": 4,
 "nbformat_minor": 5
}
