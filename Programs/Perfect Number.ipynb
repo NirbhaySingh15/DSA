{
 "cells": [
  {
   "cell_type": "code",
   "execution_count": 8,
   "id": "99fa9852",
   "metadata": {},
   "outputs": [
    {
     "name": "stdout",
     "output_type": "stream",
     "text": [
      "Please Enter a Number: 28\n"
     ]
    },
    {
     "data": {
      "text/plain": [
       "'28 is Perfect Number'"
      ]
     },
     "execution_count": 8,
     "metadata": {},
     "output_type": "execute_result"
    }
   ],
   "source": [
    "def Perfect_num(n):\n",
    "    r=0\n",
    "    for i in range(1,n):\n",
    "        if n%i==0:\n",
    "            r=r+i\n",
    "    if r==n:\n",
    "        return f'{n} is Perfect Number'\n",
    "    else:\n",
    "        return f'{n} is not Perfect Number'\n",
    "\n",
    "inp=int(input('Please Enter a Number: '))\n",
    "Perfect_num(inp)"
   ]
  }
 ],
 "metadata": {
  "kernelspec": {
   "display_name": "Python 3 (ipykernel)",
   "language": "python",
   "name": "python3"
  },
  "language_info": {
   "codemirror_mode": {
    "name": "ipython",
    "version": 3
   },
   "file_extension": ".py",
   "mimetype": "text/x-python",
   "name": "python",
   "nbconvert_exporter": "python",
   "pygments_lexer": "ipython3",
   "version": "3.9.13"
  }
 },
 "nbformat": 4,
 "nbformat_minor": 5
}
