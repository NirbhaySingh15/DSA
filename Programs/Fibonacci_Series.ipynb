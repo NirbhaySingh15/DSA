{
 "cells": [
  {
   "cell_type": "markdown",
   "id": "045b489b",
   "metadata": {},
   "source": [
    "## By Number"
   ]
  },
  {
   "cell_type": "code",
   "execution_count": 21,
   "id": "7b28d352",
   "metadata": {},
   "outputs": [
    {
     "name": "stdout",
     "output_type": "stream",
     "text": [
      "Enter the length of Fibbonaci Series: 25\n",
      "Series: 0 1 1 2 3 5 8 13 21 "
     ]
    }
   ],
   "source": [
    "def Fibonacci(n):\n",
    "    a=0\n",
    "    b=1\n",
    "    result = [a,b]\n",
    "    while b < n:\n",
    "        c=b\n",
    "        b=a+b\n",
    "        a=c\n",
    "        if b < n:\n",
    "            result.append(b)\n",
    "    return result\n",
    "\n",
    "if __name__ == \"__main__\":\n",
    "    length=int(input('Enter the length of Fibbonaci Series: '))\n",
    "    result=Fibonacci(length)\n",
    "    print('Series: ',end='')\n",
    "    for i in result:\n",
    "        print(i,end=' ')"
   ]
  },
  {
   "cell_type": "markdown",
   "id": "57b1c96b",
   "metadata": {},
   "source": [
    "## Length of Series"
   ]
  },
  {
   "cell_type": "code",
   "execution_count": 23,
   "id": "7fd9b248",
   "metadata": {},
   "outputs": [
    {
     "name": "stdout",
     "output_type": "stream",
     "text": [
      "Enter the length of Fibbonaci Series: 10\n",
      "Series: 0 1 1 2 3 5 8 13 21 34 "
     ]
    }
   ],
   "source": [
    "def Generate_Fibonacci(length):\n",
    "    result=[0,1]\n",
    "    while len(result)<length:\n",
    "        fibo=result[-1]+result[-2]\n",
    "        result.append(fibo)\n",
    "    return result\n",
    "\n",
    "if __name__ == \"__main__\":\n",
    "    length=int(input('Enter the length of Fibbonaci Series: '))\n",
    "    result=Generate_Fibonacci(length)\n",
    "    print('Series: ',end='')\n",
    "    for i in result:\n",
    "        print(i,end=' ')"
   ]
  }
 ],
 "metadata": {
  "kernelspec": {
   "display_name": "Python 3 (ipykernel)",
   "language": "python",
   "name": "python3"
  },
  "language_info": {
   "codemirror_mode": {
    "name": "ipython",
    "version": 3
   },
   "file_extension": ".py",
   "mimetype": "text/x-python",
   "name": "python",
   "nbconvert_exporter": "python",
   "pygments_lexer": "ipython3",
   "version": "3.9.13"
  }
 },
 "nbformat": 4,
 "nbformat_minor": 5
}
