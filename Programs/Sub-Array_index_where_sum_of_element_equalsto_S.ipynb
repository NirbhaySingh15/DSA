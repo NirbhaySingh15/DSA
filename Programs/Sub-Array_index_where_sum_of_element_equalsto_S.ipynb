{
 "cells": [
  {
   "cell_type": "markdown",
   "id": "ba780ee4",
   "metadata": {},
   "source": [
    "1. find a continuous sub-array that adds to a given number S and return the left and right index(1-based indexing) of that subarray In case no such subarray exists return an array consisting of element -1."
   ]
  },
  {
   "cell_type": "code",
   "execution_count": 1,
   "id": "0f9560f2",
   "metadata": {},
   "outputs": [
    {
     "name": "stdout",
     "output_type": "stream",
     "text": [
      "2 4 "
     ]
    }
   ],
   "source": [
    "class Solution:\n",
    "    def subArraySum(arr, n, s):\n",
    "        for j in range(len(A)):\n",
    "            Sum=0\n",
    "            for i in range(j,len(A)):\n",
    "                Sum+=A[i]\n",
    "                if Sum == S:\n",
    "                    return [j+1,i+1]\n",
    "                if Sum > S:\n",
    "                    continue\n",
    "        return [-1]\n",
    "    \n",
    "if __name__ == '__main__':\n",
    "    N = 5\n",
    "    S = 12\n",
    "    A=[1,2,3,7,5]\n",
    "    obj=Solution\n",
    "    result=obj.subArraySum(A,N,S)\n",
    "    for i in result:\n",
    "        print(i,end=' ')"
   ]
  },
  {
   "cell_type": "code",
   "execution_count": 2,
   "id": "fb943b0c",
   "metadata": {},
   "outputs": [
    {
     "name": "stdout",
     "output_type": "stream",
     "text": [
      "2 4 "
     ]
    }
   ],
   "source": [
    "class Solution:\n",
    "    def subArraySum(arr, n, s):\n",
    "        for i in range(n):\n",
    "            Sum=0\n",
    "            j=i\n",
    "            while j<N and Sum<S:\n",
    "                Sum+=arr[j]\n",
    "                if Sum == s:\n",
    "                    return [i+1,j+1]\n",
    "                j+=1\n",
    "                if Sum > s:\n",
    "                    continue\n",
    "        return [-1]\n",
    "    \n",
    "if __name__ == '__main__':\n",
    "    N = 5\n",
    "    S = 12\n",
    "    A=[1,2,3,7,5]\n",
    "    obj=Solution\n",
    "    result=obj.subArraySum(A,N,S)\n",
    "    for i in result:\n",
    "        print(i,end=' ')"
   ]
  },
  {
   "cell_type": "code",
   "execution_count": 3,
   "id": "d1739c98",
   "metadata": {},
   "outputs": [
    {
     "name": "stdout",
     "output_type": "stream",
     "text": [
      "2 4 "
     ]
    }
   ],
   "source": [
    "class Solution:\n",
    "    def subArraySum(arr, n, s):\n",
    "        first,last,Sum=0,0,0\n",
    "        while first<n:\n",
    "            Sum+=arr[last]\n",
    "            last+=1\n",
    "            if Sum==s:\n",
    "                return [first+1,last]\n",
    "            if Sum>s or last==n:\n",
    "                first+=1\n",
    "                last=first\n",
    "                Sum=0\n",
    "        return [-1]  \n",
    "if __name__ == '__main__':\n",
    "    N = 5\n",
    "    S = 12\n",
    "    A=[1,2,3,7,5]\n",
    "    obj=Solution\n",
    "    result=obj.subArraySum(A,N,S)\n",
    "    for i in result:\n",
    "        print(i,end=' ')"
   ]
  },
  {
   "cell_type": "code",
   "execution_count": 4,
   "id": "59069c57",
   "metadata": {},
   "outputs": [
    {
     "name": "stdout",
     "output_type": "stream",
     "text": [
      "2 4 "
     ]
    }
   ],
   "source": [
    "class Solution:\n",
    "    def subArraySum(arr, n, s):\n",
    "        first,last,Sum=0,0,0\n",
    "        while first<n:\n",
    "            Sum+=arr[last]\n",
    "            if Sum==s:\n",
    "                return [first+1,last+1]\n",
    "            elif Sum>s or last==n-1:\n",
    "                first+=1\n",
    "                last=first\n",
    "                Sum=0\n",
    "            else:\n",
    "                last+=1\n",
    "        return [-1]  \n",
    "if __name__ == '__main__':\n",
    "    N = 5\n",
    "    S = 12\n",
    "    A=[1,2,3,7,5]\n",
    "    obj=Solution\n",
    "    result=obj.subArraySum(A,N,S)\n",
    "    for i in result:\n",
    "        print(i,end=' ')"
   ]
  }
 ],
 "metadata": {
  "kernelspec": {
   "display_name": "Python 3 (ipykernel)",
   "language": "python",
   "name": "python3"
  },
  "language_info": {
   "codemirror_mode": {
    "name": "ipython",
    "version": 3
   },
   "file_extension": ".py",
   "mimetype": "text/x-python",
   "name": "python",
   "nbconvert_exporter": "python",
   "pygments_lexer": "ipython3",
   "version": "3.9.13"
  }
 },
 "nbformat": 4,
 "nbformat_minor": 5
}
