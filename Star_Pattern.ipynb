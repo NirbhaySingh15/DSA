{
 "cells": [
  {
   "cell_type": "markdown",
   "id": "e371a300",
   "metadata": {},
   "source": [
    "## 1."
   ]
  },
  {
   "cell_type": "raw",
   "id": "7e2c3ef3",
   "metadata": {},
   "source": [
    "                                            * \n",
    "                                            * * \n",
    "                                            * * * \n",
    "                                            * * * * \n",
    "                                            * * * * *"
   ]
  },
  {
   "cell_type": "code",
   "execution_count": 5,
   "id": "06768f01",
   "metadata": {},
   "outputs": [
    {
     "name": "stdout",
     "output_type": "stream",
     "text": [
      "Enter the Triangle size: 5\n",
      "* \n",
      "* * \n",
      "* * * \n",
      "* * * * \n",
      "* * * * * \n"
     ]
    }
   ],
   "source": [
    "n=int(input('Enter the Triangle size: '))\n",
    "for i in range(1,n+1):\n",
    "    print('* '*i)"
   ]
  },
  {
   "cell_type": "raw",
   "id": "5a10aaaa",
   "metadata": {},
   "source": [
    "                                            * * * * * \n",
    "                                            * * * * \n",
    "                                            * * * \n",
    "                                            * * \n",
    "                                            * "
   ]
  },
  {
   "cell_type": "code",
   "execution_count": 21,
   "id": "5414d644",
   "metadata": {},
   "outputs": [
    {
     "name": "stdout",
     "output_type": "stream",
     "text": [
      "* * * * * \n",
      "* * * * \n",
      "* * * \n",
      "* * \n",
      "* \n"
     ]
    }
   ],
   "source": [
    "n=int(input('Enter the Triangle size: '))\n",
    "for i in range(n,0,-1):\n",
    "    print('* '*i)"
   ]
  },
  {
   "cell_type": "raw",
   "id": "f475176a",
   "metadata": {},
   "source": [
    "                                            * \n",
    "                                            * * \n",
    "                                            * * * \n",
    "                                            * * * * \n",
    "                                            * * * * * \n",
    "                                            * * * * \n",
    "                                            * * * \n",
    "                                            * * \n",
    "                                            *"
   ]
  },
  {
   "cell_type": "code",
   "execution_count": 22,
   "id": "4e1f2237",
   "metadata": {},
   "outputs": [
    {
     "name": "stdout",
     "output_type": "stream",
     "text": [
      "Enter the Triangle size: 5\n",
      "* \n",
      "* * \n",
      "* * * \n",
      "* * * * \n",
      "* * * * * \n",
      "* * * * \n",
      "* * * \n",
      "* * \n",
      "* \n"
     ]
    }
   ],
   "source": [
    "n=int(input('Enter the Triangle size: '))\n",
    "for i in range(1,n+1):\n",
    "    print('* '*i)\n",
    "for i in range(n-1,0,-1):\n",
    "    print('* '*i)"
   ]
  },
  {
   "cell_type": "markdown",
   "id": "2e562fc1",
   "metadata": {},
   "source": [
    "## 2."
   ]
  },
  {
   "cell_type": "raw",
   "id": "b70ac014",
   "metadata": {},
   "source": [
    "                                                      * \n",
    "                                                    * * \n",
    "                                                  * * * \n",
    "                                                * * * * \n",
    "                                              * * * * * "
   ]
  },
  {
   "cell_type": "code",
   "execution_count": 32,
   "id": "1450749e",
   "metadata": {},
   "outputs": [
    {
     "name": "stdout",
     "output_type": "stream",
     "text": [
      "Enter the Triangle size: 5\n",
      "        * \n",
      "      * * \n",
      "    * * * \n",
      "  * * * * \n",
      "* * * * * \n"
     ]
    }
   ],
   "source": [
    "n=int(input('Enter the Triangle size: '))\n",
    "rl=n*2-2\n",
    "for i in range(1,n+1):\n",
    "    for j in range(rl):\n",
    "        print(end=' ')\n",
    "    rl-=2\n",
    "    for k in range(i):\n",
    "        print(end='* ')\n",
    "    print()"
   ]
  },
  {
   "cell_type": "raw",
   "id": "ffbcaf41",
   "metadata": {},
   "source": [
    "                                                * * * * * \n",
    "                                                  * * * * \n",
    "                                                    * * * \n",
    "                                                      * * \n",
    "                                                        *"
   ]
  },
  {
   "cell_type": "code",
   "execution_count": 19,
   "id": "270f6481",
   "metadata": {},
   "outputs": [
    {
     "name": "stdout",
     "output_type": "stream",
     "text": [
      "* * * * * \n",
      "  * * * * \n",
      "    * * * \n",
      "      * * \n",
      "        * \n"
     ]
    }
   ],
   "source": [
    "n=5\n",
    "s=0\n",
    "for i in range(n,0,-1):\n",
    "    for j in range(s):\n",
    "        print(end=' ')\n",
    "    s+=2\n",
    "    for k in range(i):\n",
    "        print(end='* ')\n",
    "    print()"
   ]
  },
  {
   "cell_type": "raw",
   "id": "10ab3706",
   "metadata": {},
   "source": [
    "                                                         * \n",
    "                                                       * * \n",
    "                                                     * * * \n",
    "                                                   * * * * \n",
    "                                                 * * * * * \n",
    "                                                   * * * * \n",
    "                                                     * * * \n",
    "                                                       * * \n",
    "                                                         *"
   ]
  },
  {
   "cell_type": "code",
   "execution_count": 67,
   "id": "334ccac7",
   "metadata": {},
   "outputs": [
    {
     "name": "stdout",
     "output_type": "stream",
     "text": [
      "Enter the Triangle size: 5\n",
      "         * \n",
      "       * * \n",
      "     * * * \n",
      "   * * * * \n",
      " * * * * * \n",
      "   * * * * \n",
      "     * * * \n",
      "       * * \n",
      "         * \n"
     ]
    }
   ],
   "source": [
    "n=int(input('Enter the Triangle size: '))\n",
    "rl=n*2-1\n",
    "s=3\n",
    "for i in range(1,n+1):\n",
    "    for j in range(rl):\n",
    "        print(end=' ')\n",
    "    rl-=2\n",
    "    for k in range(i):\n",
    "        print(end='* ')\n",
    "    print()\n",
    "for i in range(n-1,0,-1):\n",
    "    for j in range(s):\n",
    "        print(end=' ')\n",
    "    s+=2\n",
    "    for k in range(i):\n",
    "        print(end='* ')\n",
    "    print()"
   ]
  },
  {
   "cell_type": "markdown",
   "id": "c8b8c13e",
   "metadata": {},
   "source": [
    "## 3."
   ]
  },
  {
   "cell_type": "raw",
   "id": "abff40af",
   "metadata": {},
   "source": [
    "                                                            * \n",
    "                                                           * * \n",
    "                                                          * * * \n",
    "                                                         * * * * \n",
    "                                                        * * * * *"
   ]
  },
  {
   "cell_type": "code",
   "execution_count": 14,
   "id": "bc51b6f0",
   "metadata": {},
   "outputs": [
    {
     "name": "stdout",
     "output_type": "stream",
     "text": [
      "Enter the Triangle size: 5\n",
      "    * \n",
      "   * * \n",
      "  * * * \n",
      " * * * * \n",
      "* * * * * \n"
     ]
    }
   ],
   "source": [
    "n=int(input('Enter the Triangle size: '))\n",
    "rl=n-1\n",
    "for i in range(1,n+1):\n",
    "    for j in range(rl):\n",
    "        print(end=' ')\n",
    "    rl-=1\n",
    "    for k in range(i):\n",
    "        print(end=\"* \")\n",
    "    print()"
   ]
  },
  {
   "cell_type": "raw",
   "id": "48df7b06",
   "metadata": {},
   "source": [
    "                                                        * * * * * \n",
    "                                                         * * * * \n",
    "                                                          * * * \n",
    "                                                           * * \n",
    "                                                            *"
   ]
  },
  {
   "cell_type": "code",
   "execution_count": 44,
   "id": "a1a3958b",
   "metadata": {},
   "outputs": [
    {
     "name": "stdout",
     "output_type": "stream",
     "text": [
      "Enter the Triangle size: 5\n",
      "* * * * * \n",
      " * * * * \n",
      "  * * * \n",
      "   * * \n",
      "    * \n"
     ]
    }
   ],
   "source": [
    "n=int(input('Enter the Triangle size: '))\n",
    "rl=0\n",
    "for i in range(n,0,-1):\n",
    "    for j in range(rl):\n",
    "        print(end=' ')\n",
    "    rl+=1\n",
    "    for k in range(i):\n",
    "        print(end=\"* \")\n",
    "    print()"
   ]
  },
  {
   "cell_type": "raw",
   "id": "cfc6a110",
   "metadata": {},
   "source": [
    "                                                            * \n",
    "                                                           * * \n",
    "                                                          * * * \n",
    "                                                         * * * * \n",
    "                                                        * * * * * \n",
    "                                                         * * * * \n",
    "                                                          * * * \n",
    "                                                           * * \n",
    "                                                            *"
   ]
  },
  {
   "cell_type": "code",
   "execution_count": 43,
   "id": "343080a4",
   "metadata": {},
   "outputs": [
    {
     "name": "stdout",
     "output_type": "stream",
     "text": [
      "Enter the Triangle size: 5\n",
      "    * \n",
      "   * * \n",
      "  * * * \n",
      " * * * * \n",
      "* * * * * \n",
      " * * * * \n",
      "  * * * \n",
      "   * * \n",
      "    * \n"
     ]
    }
   ],
   "source": [
    "n=int(input('Enter the Triangle size: '))\n",
    "rl=n-1\n",
    "for i in range(1,n+1):\n",
    "    for j in range(rl):\n",
    "        print(end=' ')\n",
    "    rl-=1\n",
    "    for k in range(i):\n",
    "        print(end=\"* \")\n",
    "    print()\n",
    "rl=1\n",
    "for i in range(n-1,0,-1):\n",
    "    for j in range(rl):\n",
    "        print(end=' ')\n",
    "    rl+=1\n",
    "    for k in range(i):\n",
    "        print(end=\"* \")\n",
    "    print()"
   ]
  },
  {
   "cell_type": "markdown",
   "id": "c2c84d92",
   "metadata": {},
   "source": [
    "## 4."
   ]
  },
  {
   "cell_type": "raw",
   "id": "b364957a",
   "metadata": {},
   "source": [
    "                                                    3 \n",
    "                                                   3 3 \n",
    "                                                  3 3 3 \n",
    "                                                 3 3 3 3 \n",
    "                                                3 3 3 3 3"
   ]
  },
  {
   "cell_type": "code",
   "execution_count": 49,
   "id": "250b71af",
   "metadata": {},
   "outputs": [
    {
     "name": "stdout",
     "output_type": "stream",
     "text": [
      "Enter the Triangle size and Number you want to print: 5 3\n",
      "    3 \n",
      "   3 3 \n",
      "  3 3 3 \n",
      " 3 3 3 3 \n",
      "3 3 3 3 3 \n"
     ]
    }
   ],
   "source": [
    "n,num=list(map(int,input('Enter the Triangle size and Number you want to print: ').split()))\n",
    "rl=n-1\n",
    "for i in range(1,n+1):\n",
    "    for j in range(rl):\n",
    "        print(end=' ')\n",
    "    rl-=1\n",
    "    for k in range(i):\n",
    "        print(num,end=\" \")\n",
    "    print()"
   ]
  },
  {
   "cell_type": "markdown",
   "id": "0a41711e",
   "metadata": {},
   "source": [
    "## 5."
   ]
  },
  {
   "cell_type": "raw",
   "id": "e847f48d",
   "metadata": {},
   "source": [
    "                                                        0 \n",
    "                                                       1 2 \n",
    "                                                      3 4 5 \n",
    "                                                     6 7 8 9"
   ]
  },
  {
   "cell_type": "code",
   "execution_count": 54,
   "id": "91209293",
   "metadata": {},
   "outputs": [
    {
     "name": "stdout",
     "output_type": "stream",
     "text": [
      "Enter the Triangle size: 5\n",
      "     \n",
      "    0 \n",
      "   1 2 \n",
      "  3 4 5 \n",
      " 6 7 8 9 \n"
     ]
    }
   ],
   "source": [
    "n=int(input('Enter the Triangle size: '))\n",
    "rl=n\n",
    "num=0\n",
    "for i in range(n):\n",
    "    for j in range(rl):\n",
    "        print(end=' ')\n",
    "    rl-=1\n",
    "    for k in range(i):\n",
    "        print(num,end=\" \")\n",
    "        num+=1\n",
    "    print()"
   ]
  }
 ],
 "metadata": {
  "kernelspec": {
   "display_name": "Python 3 (ipykernel)",
   "language": "python",
   "name": "python3"
  },
  "language_info": {
   "codemirror_mode": {
    "name": "ipython",
    "version": 3
   },
   "file_extension": ".py",
   "mimetype": "text/x-python",
   "name": "python",
   "nbconvert_exporter": "python",
   "pygments_lexer": "ipython3",
   "version": "3.9.13"
  }
 },
 "nbformat": 4,
 "nbformat_minor": 5
}
