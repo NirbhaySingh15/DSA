{
 "cells": [
  {
   "cell_type": "code",
   "execution_count": 21,
   "id": "0caa07f2",
   "metadata": {},
   "outputs": [
    {
     "name": "stdout",
     "output_type": "stream",
     "text": [
      "20 20\n"
     ]
    }
   ],
   "source": [
    "def miniMaxSum(arr):\n",
    "    sums=sum(arr)\n",
    "    min_sum=sums-max(arr)\n",
    "    max_sum=sums-min(arr)\n",
    "    print(min_sum,max_sum)\n",
    "\n",
    "if __name__ == '__main__':\n",
    "\n",
    "    arr = [5,5,5,5,5]\n",
    "\n",
    "    miniMaxSum(arr)"
   ]
  },
  {
   "cell_type": "code",
   "execution_count": 24,
   "id": "4ac6d931",
   "metadata": {},
   "outputs": [
    {
     "name": "stdout",
     "output_type": "stream",
     "text": [
      "19:05:45\n"
     ]
    }
   ],
   "source": [
    "from datetime import datetime\n",
    "time_12_hour_format='07:05:45PM'\n",
    "time_24_hour_format = datetime.strptime(time_12_hour_format, \"%I:%M:%S%p\").strftime(\"%H:%M:%S\")\n",
    "print(time_24_hour_format)"
   ]
  }
 ],
 "metadata": {
  "kernelspec": {
   "display_name": "Python 3 (ipykernel)",
   "language": "python",
   "name": "python3"
  },
  "language_info": {
   "codemirror_mode": {
    "name": "ipython",
    "version": 3
   },
   "file_extension": ".py",
   "mimetype": "text/x-python",
   "name": "python",
   "nbconvert_exporter": "python",
   "pygments_lexer": "ipython3",
   "version": "3.9.13"
  }
 },
 "nbformat": 4,
 "nbformat_minor": 5
}
