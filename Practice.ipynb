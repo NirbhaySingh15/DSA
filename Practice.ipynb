{
 "cells": [
  {
   "cell_type": "code",
   "execution_count": 11,
   "id": "1ef47d1e",
   "metadata": {},
   "outputs": [
    {
     "data": {
      "image/png": "[encoded data removed]",
      "text/plain": [
       "<Figure size 1000x600 with 1 Axes>"
      ]
     },
     "metadata": {},
     "output_type": "display_data"
    }
   ],
   "source": [
    "import pandas as pd\n",
    "import matplotlib.pyplot as plt\n",
    "df1={\n",
    "    'sex':['M','F','M','F','M','F','F','M','F','M','F','F','F'],\n",
    "    'age':[23,33,12,36,41,18,13,41,36,20,12,23,33]\n",
    "}\n",
    "index=[x for x in range(20,33)]\n",
    "data=pd.DataFrame(df1,index=index)\n",
    "\n",
    "#plotting gender count\n",
    "gender=data.sex.value_counts().reset_index()\n",
    "plt.figure(figsize=(10,6))\n",
    "plt.bar(gender.index,gender.sex,color=['red','purple'])\n",
    "plt.xticks(gender.index,['Female','Male'])\n",
    "plt.show()"
   ]
  },
  {
   "cell_type": "code",
   "execution_count": 35,
   "id": "58bd6d58",
   "metadata": {},
   "outputs": [
    {
     "name": "stderr",
     "output_type": "stream",
     "text": [
      "C:\\Users\\ABHAYRAJ SINGH\\anaconda3\\lib\\site-packages\\seaborn\\_decorators.py:36: FutureWarning: Pass the following variables as keyword args: x, y. From version 0.12, the only valid positional argument will be `data`, and passing other arguments without an explicit keyword will result in an error or misinterpretation.\n",
      "  warnings.warn(\n"
     ]
    },
    {
     "data": {
      "image/png": "[encoded data removed]",
      "text/plain": [
       "<Figure size 1000x600 with 1 Axes>"
      ]
     },
     "metadata": {},
     "output_type": "display_data"
    }
   ],
   "source": [
    "import pandas as pd\n",
    "import matplotlib.pyplot as plt\n",
    "import seaborn as sns\n",
    "df1={\n",
    "    'sex':['M','F','M','F','M','F','F','M','F','M','F','F','F'],\n",
    "    'city':['AU','NZ','AU','US','NZ','AU','NZ','IND','AU','IND','NZ','AU','AU']\n",
    "}\n",
    "index=[x for x in range(13)]\n",
    "data=pd.DataFrame(df1,index=index)\n",
    "\n",
    "#plotting gender count\n",
    "dfr=data.groupby(['city','sex']).size().reset_index()\n",
    "dfr['cont']=dfr[0]\n",
    "plt.figure(figsize=(10,6))\n",
    "sns.barplot(dfr.city,dfr.cont,hue=dfr.sex)\n",
    "# plt.xticks(gender.index,['Female','Male'])\n",
    "plt.show()"
   ]
  },
  {
   "cell_type": "code",
   "execution_count": 36,
   "id": "ee1b055a",
   "metadata": {},
   "outputs": [
    {
     "data": {
      "text/html": [
       "<div>\n",
       "<style scoped>\n",
       "    .dataframe tbody tr th:only-of-type {\n",
       "        vertical-align: middle;\n",
       "    }\n",
       "\n",
       "    .dataframe tbody tr th {\n",
       "        vertical-align: top;\n",
       "    }\n",
       "\n",
       "    .dataframe thead th {\n",
       "        text-align: right;\n",
       "    }\n",
       "</style>\n",
       "<table border=\"1\" class=\"dataframe\">\n",
       "  <thead>\n",
       "    <tr style=\"text-align: right;\">\n",
       "      <th></th>\n",
       "      <th>city</th>\n",
       "      <th>sex</th>\n",
       "      <th>0</th>\n",
       "    </tr>\n",
       "  </thead>\n",
       "  <tbody>\n",
       "    <tr>\n",
       "      <th>0</th>\n",
       "      <td>AU</td>\n",
       "      <td>F</td>\n",
       "      <td>4</td>\n",
       "    </tr>\n",
       "    <tr>\n",
       "      <th>1</th>\n",
       "      <td>AU</td>\n",
       "      <td>M</td>\n",
       "      <td>2</td>\n",
       "    </tr>\n",
       "    <tr>\n",
       "      <th>2</th>\n",
       "      <td>IND</td>\n",
       "      <td>M</td>\n",
       "      <td>2</td>\n",
       "    </tr>\n",
       "    <tr>\n",
       "      <th>3</th>\n",
       "      <td>NZ</td>\n",
       "      <td>F</td>\n",
       "      <td>3</td>\n",
       "    </tr>\n",
       "    <tr>\n",
       "      <th>4</th>\n",
       "      <td>NZ</td>\n",
       "      <td>M</td>\n",
       "      <td>1</td>\n",
       "    </tr>\n",
       "    <tr>\n",
       "      <th>5</th>\n",
       "      <td>US</td>\n",
       "      <td>F</td>\n",
       "      <td>1</td>\n",
       "    </tr>\n",
       "  </tbody>\n",
       "</table>\n",
       "</div>"
      ],
      "text/plain": [
       "  city sex  0\n",
       "0   AU   F  4\n",
       "1   AU   M  2\n",
       "2  IND   M  2\n",
       "3   NZ   F  3\n",
       "4   NZ   M  1\n",
       "5   US   F  1"
      ]
     },
     "execution_count": 36,
     "metadata": {},
     "output_type": "execute_result"
    }
   ],
   "source": [
    "data.groupby(['city','sex']).size().reset_index()"
   ]
  },
  {
   "cell_type": "code",
   "execution_count": 124,
   "id": "18ae50a9",
   "metadata": {},
   "outputs": [],
   "source": [
    "dfo={'Value':[12,14,16,18,17,15,13,16,14,1,5,3,16,18,1,515,65,15,25,24,26,28,24,36,35,542,445,236,485,222,250,112,141,154,122,158,165,148,175,124,125,126,123,169,158,158,211,341,369,698,444,469,412,387,321,351,35,34,39,38,37,33,48,46,42,41,43,49,47,45,44,51,55,56,53,59,59,54,52,51]}"
   ]
  },
  {
   "cell_type": "code",
   "execution_count": 125,
   "id": "47f3556d",
   "metadata": {},
   "outputs": [
    {
     "data": {
      "text/html": [
       "<div>\n",
       "<style scoped>\n",
       "    .dataframe tbody tr th:only-of-type {\n",
       "        vertical-align: middle;\n",
       "    }\n",
       "\n",
       "    .dataframe tbody tr th {\n",
       "        vertical-align: top;\n",
       "    }\n",
       "\n",
       "    .dataframe thead th {\n",
       "        text-align: right;\n",
       "    }\n",
       "</style>\n",
       "<table border=\"1\" class=\"dataframe\">\n",
       "  <thead>\n",
       "    <tr style=\"text-align: right;\">\n",
       "      <th></th>\n",
       "      <th>Value</th>\n",
       "    </tr>\n",
       "  </thead>\n",
       "  <tbody>\n",
       "    <tr>\n",
       "      <th>0</th>\n",
       "      <td>12</td>\n",
       "    </tr>\n",
       "    <tr>\n",
       "      <th>1</th>\n",
       "      <td>14</td>\n",
       "    </tr>\n",
       "    <tr>\n",
       "      <th>2</th>\n",
       "      <td>16</td>\n",
       "    </tr>\n",
       "    <tr>\n",
       "      <th>3</th>\n",
       "      <td>18</td>\n",
       "    </tr>\n",
       "    <tr>\n",
       "      <th>4</th>\n",
       "      <td>17</td>\n",
       "    </tr>\n",
       "    <tr>\n",
       "      <th>...</th>\n",
       "      <td>...</td>\n",
       "    </tr>\n",
       "    <tr>\n",
       "      <th>75</th>\n",
       "      <td>59</td>\n",
       "    </tr>\n",
       "    <tr>\n",
       "      <th>76</th>\n",
       "      <td>59</td>\n",
       "    </tr>\n",
       "    <tr>\n",
       "      <th>77</th>\n",
       "      <td>54</td>\n",
       "    </tr>\n",
       "    <tr>\n",
       "      <th>78</th>\n",
       "      <td>52</td>\n",
       "    </tr>\n",
       "    <tr>\n",
       "      <th>79</th>\n",
       "      <td>51</td>\n",
       "    </tr>\n",
       "  </tbody>\n",
       "</table>\n",
       "<p>80 rows × 1 columns</p>\n",
       "</div>"
      ],
      "text/plain": [
       "    Value\n",
       "0      12\n",
       "1      14\n",
       "2      16\n",
       "3      18\n",
       "4      17\n",
       "..    ...\n",
       "75     59\n",
       "76     59\n",
       "77     54\n",
       "78     52\n",
       "79     51\n",
       "\n",
       "[80 rows x 1 columns]"
      ]
     },
     "execution_count": 125,
     "metadata": {},
     "output_type": "execute_result"
    }
   ],
   "source": [
    "import pandas as pd\n",
    "outlr=pd.DataFrame(dfo)\n",
    "outlr"
   ]
  },
  {
   "cell_type": "code",
   "execution_count": 126,
   "id": "0da24867",
   "metadata": {},
   "outputs": [
    {
     "name": "stderr",
     "output_type": "stream",
     "text": [
      "C:\\Users\\ABHAYRAJ SINGH\\anaconda3\\lib\\site-packages\\seaborn\\_decorators.py:36: FutureWarning: Pass the following variable as a keyword arg: x. From version 0.12, the only valid positional argument will be `data`, and passing other arguments without an explicit keyword will result in an error or misinterpretation.\n",
      "  warnings.warn(\n"
     ]
    },
    {
     "data": {
      "text/plain": [
       "<AxesSubplot:xlabel='Value'>"
      ]
     },
     "execution_count": 126,
     "metadata": {},
     "output_type": "execute_result"
    },
    {
     "data": {
      "image/png": "[encoded data removed]",
      "text/plain": [
       "<Figure size 640x480 with 1 Axes>"
      ]
     },
     "metadata": {},
     "output_type": "display_data"
    }
   ],
   "source": [
    "import seaborn as sns\n",
    "sns.boxplot(outlr.Value)"
   ]
  },
  {
   "cell_type": "code",
   "execution_count": 127,
   "id": "f028c3f1",
   "metadata": {},
   "outputs": [
    {
     "name": "stdout",
     "output_type": "stream",
     "text": [
      "27.5 159.75\n"
     ]
    }
   ],
   "source": [
    "import numpy as np\n",
    "q1=outlr.Value.quantile(0.25)\n",
    "q3=outlr.Value.quantile(0.75)\n",
    "print(q1,q3)"
   ]
  },
  {
   "cell_type": "code",
   "execution_count": 128,
   "id": "e0cdeafc",
   "metadata": {},
   "outputs": [
    {
     "data": {
      "text/plain": [
       "132.25"
      ]
     },
     "execution_count": 128,
     "metadata": {},
     "output_type": "execute_result"
    }
   ],
   "source": [
    "iqr=q3-q1\n",
    "iqr"
   ]
  },
  {
   "cell_type": "code",
   "execution_count": 133,
   "id": "2e72fc4e",
   "metadata": {},
   "outputs": [
    {
     "name": "stdout",
     "output_type": "stream",
     "text": [
      "-117.97500000000002 305.225\n"
     ]
    }
   ],
   "source": [
    "lower_fence=q1-1.1*iqr\n",
    "upper_fence=q3+1.1*iqr\n",
    "print(lower_fence,upper_fence)"
   ]
  },
  {
   "cell_type": "code",
   "execution_count": 136,
   "id": "20cc9585",
   "metadata": {},
   "outputs": [],
   "source": [
    "outlr['clean_Value']=outlr[(outlr['Value'] > lower_fence) & (outlr['Value'] < upper_fence)]"
   ]
  },
  {
   "cell_type": "code",
   "execution_count": 137,
   "id": "4ed52ae1",
   "metadata": {},
   "outputs": [
    {
     "data": {
      "text/plain": [
       "0     12.0\n",
       "1     14.0\n",
       "2     16.0\n",
       "3     18.0\n",
       "4     17.0\n",
       "      ... \n",
       "75    59.0\n",
       "76    59.0\n",
       "77    54.0\n",
       "78    52.0\n",
       "79    51.0\n",
       "Name: clean_Value, Length: 80, dtype: float64"
      ]
     },
     "execution_count": 137,
     "metadata": {},
     "output_type": "execute_result"
    }
   ],
   "source": [
    "outlr.clean_Value"
   ]
  },
  {
   "cell_type": "code",
   "execution_count": 139,
   "id": "b2195a43",
   "metadata": {},
   "outputs": [
    {
     "name": "stderr",
     "output_type": "stream",
     "text": [
      "C:\\Users\\ABHAYRAJ SINGH\\anaconda3\\lib\\site-packages\\seaborn\\_decorators.py:36: FutureWarning: Pass the following variable as a keyword arg: x. From version 0.12, the only valid positional argument will be `data`, and passing other arguments without an explicit keyword will result in an error or misinterpretation.\n",
      "  warnings.warn(\n"
     ]
    },
    {
     "data": {
      "text/plain": [
       "<AxesSubplot:xlabel='clean_Value'>"
      ]
     },
     "execution_count": 139,
     "metadata": {},
     "output_type": "execute_result"
    },
    {
     "data": {
      "image/png": "[encoded data removed]",
      "text/plain": [
       "<Figure size 640x480 with 1 Axes>"
      ]
     },
     "metadata": {},
     "output_type": "display_data"
    }
   ],
   "source": [
    "sns.boxplot(outlr.clean_Value)"
   ]
  },
  {
   "cell_type": "code",
   "execution_count": 121,
   "id": "89e5d390",
   "metadata": {},
   "outputs": [
    {
     "name": "stdout",
     "output_type": "stream",
     "text": [
      "0     12.0\n",
      "1     14.0\n",
      "2     16.0\n",
      "3     18.0\n",
      "4     17.0\n",
      "      ... \n",
      "75    59.0\n",
      "76    59.0\n",
      "77    54.0\n",
      "78    52.0\n",
      "79    51.0\n",
      "Name: outliers_removed, Length: 80, dtype: float64\n"
     ]
    }
   ],
   "source": [
    "import pandas as pd\n",
    "\n",
    "# Define your dataset\n",
    "dfo = {'Value': [12,14,16,18,17,15,13,16,14,1,5,3,16,18,1,515,65,15,25,24,26,28,24,36,35,542,445,236,485,222,250,112,141,154,122,158,165,148,175,124,125,126,123,169,158,158,211,341,369,698,444,469,412,387,321,351,35,34,39,38,37,33,48,46,42,41,43,49,47,45,44,51,55,56,53,59,59,54,52,51]}\n",
    "\n",
    "# Create a DataFrame\n",
    "outlr = pd.DataFrame(dfo)\n",
    "\n",
    "# Calculate the IQR\n",
    "Q1 = outlr['Value'].quantile(0.25)\n",
    "Q3 = outlr['Value'].quantile(0.75)\n",
    "IQR = Q3 - Q1\n",
    "\n",
    "# Define the lower and upper bounds\n",
    "lower_bound = Q1 - 1.5 * IQR\n",
    "upper_bound = Q3 + 1.5 * IQR\n",
    "\n",
    "# Filter the data to keep only values within the bounds\n",
    "outlr['outliers_removed'] = outlr[(outlr['Value'] >= lower_bound) & (outlr['Value'] <= upper_bound)]\n",
    "\n",
    "# Display the resulting DataFrame without outliers\n",
    "print(outlr.outliers_removed)\n"
   ]
  },
  {
   "cell_type": "code",
   "execution_count": 123,
   "id": "81b1ec3b",
   "metadata": {},
   "outputs": [
    {
     "data": {
      "text/plain": [
       "<AxesSubplot:xlabel='outliers_removed'>"
      ]
     },
     "execution_count": 123,
     "metadata": {},
     "output_type": "execute_result"
    },
    {
     "data": {
      "image/png": "[encoded data removed]",
      "text/plain": [
       "<Figure size 640x480 with 1 Axes>"
      ]
     },
     "metadata": {},
     "output_type": "display_data"
    }
   ],
   "source": [
    "sns.boxplot(outlr.outliers_removed)"
   ]
  },
  {
   "cell_type": "code",
   "execution_count": 4,
   "id": "4d474ae2",
   "metadata": {},
   "outputs": [
    {
     "name": "stdout",
     "output_type": "stream",
     "text": [
      "2257151430960\n",
      "2257151430960\n"
     ]
    }
   ],
   "source": []
  }
 ],
 "metadata": {
  "kernelspec": {
   "display_name": "Python 3 (ipykernel)",
   "language": "python",
   "name": "python3"
  },
  "language_info": {
   "codemirror_mode": {
    "name": "ipython",
    "version": 3
   },
   "file_extension": ".py",
   "mimetype": "text/x-python",
   "name": "python",
   "nbconvert_exporter": "python",
   "pygments_lexer": "ipython3",
   "version": "3.9.13"
  }
 },
 "nbformat": 4,
 "nbformat_minor": 5
}
