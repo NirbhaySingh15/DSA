{
 "cells": [
  {
   "cell_type": "code",
   "execution_count": 1,
   "id": "41d17053",
   "metadata": {},
   "outputs": [
    {
     "name": "stdout",
     "output_type": "stream",
     "text": [
      "11 is on 6 index\n",
      "11 is not in Array\n",
      "11 is not in Array\n",
      "11 is not in Array\n",
      "11 is on 1 index\n"
     ]
    }
   ],
   "source": [
    "def binarySearch(arr,n):\n",
    "    first=0\n",
    "    last=len(arr)-1\n",
    "    index=-1\n",
    "    while first<=last and index==-1:\n",
    "        mid=(first+last)//2\n",
    "        if arr[mid]==n:\n",
    "            index=mid\n",
    "            return f'{n} is on {index} index'\n",
    "        else:\n",
    "            if arr[mid]>n:\n",
    "                last=mid-1\n",
    "            else:\n",
    "                first=mid+1\n",
    "    return f'{n} is not in Array'\n",
    "\n",
    "if __name__=='__main__':\n",
    "    test=[[0,2,4,5,9,7,11,22,58],\n",
    "         [5,9,17],\n",
    "         [],\n",
    "         [0],\n",
    "         [2,11,19,20]]\n",
    "    n=11\n",
    "    for arr in test:\n",
    "        print(binarySearch(arr,n))"
   ]
  }
 ],
 "metadata": {
  "kernelspec": {
   "display_name": "Python 3 (ipykernel)",
   "language": "python",
   "name": "python3"
  },
  "language_info": {
   "codemirror_mode": {
    "name": "ipython",
    "version": 3
   },
   "file_extension": ".py",
   "mimetype": "text/x-python",
   "name": "python",
   "nbconvert_exporter": "python",
   "pygments_lexer": "ipython3",
   "version": "3.9.13"
  }
 },
 "nbformat": 4,
 "nbformat_minor": 5
}
