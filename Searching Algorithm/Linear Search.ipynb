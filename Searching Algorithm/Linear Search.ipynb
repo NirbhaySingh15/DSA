{
 "cells": [
  {
   "cell_type": "code",
   "execution_count": 1,
   "id": "e7b26e17",
   "metadata": {},
   "outputs": [
    {
     "name": "stdout",
     "output_type": "stream",
     "text": [
      "11 is on 6 index in Array\n",
      "11 in not in Array\n",
      "11 in not in Array\n",
      "11 in not in Array\n",
      "11 is on 1 index in Array\n"
     ]
    }
   ],
   "source": [
    "def linearSearch(arr,n):\n",
    "    for i in range(len(arr)):\n",
    "        if arr[i]==n:\n",
    "            return f'{n} is on {i} index in Array'\n",
    "    return f'{n} in not in Array'\n",
    "\n",
    "if __name__=='__main__':\n",
    "    test=[[0,2,4,5,9,7,11,22,58],\n",
    "         [5,9,17],\n",
    "         [],\n",
    "         [0],\n",
    "         [2,11,19,20]]\n",
    "    n=11\n",
    "    for arr in test:\n",
    "        print(linearSearch(arr,n))"
   ]
  },
  {
   "cell_type": "code",
   "execution_count": null,
   "id": "055d7e9d",
   "metadata": {},
   "outputs": [],
   "source": []
  }
 ],
 "metadata": {
  "kernelspec": {
   "display_name": "Python 3 (ipykernel)",
   "language": "python",
   "name": "python3"
  },
  "language_info": {
   "codemirror_mode": {
    "name": "ipython",
    "version": 3
   },
   "file_extension": ".py",
   "mimetype": "text/x-python",
   "name": "python",
   "nbconvert_exporter": "python",
   "pygments_lexer": "ipython3",
   "version": "3.9.13"
  }
 },
 "nbformat": 4,
 "nbformat_minor": 5
}
