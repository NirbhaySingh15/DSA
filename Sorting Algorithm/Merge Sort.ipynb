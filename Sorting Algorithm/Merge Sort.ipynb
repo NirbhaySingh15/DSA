{
 "cells": [
  {
   "cell_type": "code",
   "execution_count": 17,
   "id": "baabd86d",
   "metadata": {},
   "outputs": [
    {
     "name": "stdout",
     "output_type": "stream",
     "text": [
      "Enter the Array: 5 8 1 3 4 2 1 9 4 5 6 1 7 3 0 1 3 5 4 8 7 9 6 3 2 1 4 58\n",
      "Sorting the Array using merge sort:  0 1 1 1 1 1 2 2 3 3 3 3 4 4 4 4 5 5 5 6 6 7 7 8 8 9 9 58 "
     ]
    }
   ],
   "source": [
    "class MergeSORT:\n",
    "    def MergeSort(arr):\n",
    "        if len(arr) <= 1:\n",
    "            return\n",
    "        mid = len(arr)//2\n",
    "\n",
    "        left=arr[:mid]\n",
    "        right=arr[mid:]\n",
    "\n",
    "        MergeSort(left)\n",
    "        MergeSort(right)\n",
    "\n",
    "        Merging_arr(left,right,arr)\n",
    "\n",
    "    def Merging_arr(a,b,ar):\n",
    "        len_a = len(a)\n",
    "        len_b = len(b)\n",
    "        i=j=k=0\n",
    "\n",
    "        while i < len_a and j < len_b:\n",
    "            if a[i]<=b[j]:\n",
    "                ar[k]=a[i]\n",
    "                i+=1\n",
    "            else:\n",
    "                ar[k]=b[j]\n",
    "                j+=1\n",
    "            k+=1\n",
    "\n",
    "        while i < len_a:\n",
    "            ar[k]=a[i]\n",
    "            i+=1\n",
    "            k+=1\n",
    "\n",
    "        while j < len_b:\n",
    "            ar[k]=b[j]\n",
    "            j+=1\n",
    "            k+=1\n",
    "\n",
    "if __name__=='__main__':\n",
    "    MS=MergeSORT\n",
    "    arr=list(map(int,input('Enter the Array: ').split()))\n",
    "    MS.MergeSort(arr)\n",
    "    print('Sorting the Array using merge sort: ',end=' ')\n",
    "    for i in arr:\n",
    "        print(i,end=' ')"
   ]
  }
 ],
 "metadata": {
  "kernelspec": {
   "display_name": "Python 3 (ipykernel)",
   "language": "python",
   "name": "python3"
  },
  "language_info": {
   "codemirror_mode": {
    "name": "ipython",
    "version": 3
   },
   "file_extension": ".py",
   "mimetype": "text/x-python",
   "name": "python",
   "nbconvert_exporter": "python",
   "pygments_lexer": "ipython3",
   "version": "3.9.13"
  }
 },
 "nbformat": 4,
 "nbformat_minor": 5
}
