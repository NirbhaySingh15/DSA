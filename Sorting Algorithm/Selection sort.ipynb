{
 "cells": [
  {
   "cell_type": "code",
   "execution_count": 1,
   "id": "928805df",
   "metadata": {},
   "outputs": [
    {
     "name": "stdout",
     "output_type": "stream",
     "text": [
      "[2, 3, 4, 4, 4, 5, 6, 9]\n",
      "[5]\n",
      "[]\n",
      "[1, 1, 4, 4, 4, 5, 5, 5, 6, 6, 8]\n"
     ]
    }
   ],
   "source": [
    "def selectionSort(arr):\n",
    "    for i in range(len(arr)):\n",
    "        for j in range(i+1,len(arr)):\n",
    "            if arr[i]>arr[j]:\n",
    "                arr[i],arr[j]=arr[j],arr[i]\n",
    "    return arr\n",
    "\n",
    "if __name__=='__main__':\n",
    "    test=[[5,2,3,4,6,4,9,4],\n",
    "         [5],\n",
    "         [],\n",
    "         [5,6,4,8,5,4,1,6,1,5,4]]\n",
    "    for arr in test:\n",
    "        print(selectionSort(arr))"
   ]
  }
 ],
 "metadata": {
  "kernelspec": {
   "display_name": "Python 3 (ipykernel)",
   "language": "python",
   "name": "python3"
  },
  "language_info": {
   "codemirror_mode": {
    "name": "ipython",
    "version": 3
   },
   "file_extension": ".py",
   "mimetype": "text/x-python",
   "name": "python",
   "nbconvert_exporter": "python",
   "pygments_lexer": "ipython3",
   "version": "3.9.13"
  }
 },
 "nbformat": 4,
 "nbformat_minor": 5
}
