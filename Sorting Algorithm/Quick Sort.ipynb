{
 "cells": [
  {
   "cell_type": "code",
   "execution_count": 1,
   "id": "4cecad29",
   "metadata": {},
   "outputs": [
    {
     "name": "stdout",
     "output_type": "stream",
     "text": [
      "[2, 3, 4, 4, 4, 5, 6, 9]\n",
      "[5]\n",
      "[]\n",
      "[1, 1, 4, 4, 4, 5, 5, 5, 6, 6, 8]\n"
     ]
    }
   ],
   "source": [
    "def partition(arr,start,end):\n",
    "    pivot_index=start\n",
    "    pivot=arr[pivot_index]\n",
    "    \n",
    "    while start < end:\n",
    "        while start < len(arr)-1 and arr[start] <= pivot:\n",
    "            start+=1\n",
    "        while arr[end] > pivot:\n",
    "            end-=1\n",
    "        \n",
    "        if start < end:\n",
    "            arr[start],arr[end]=arr[end],arr[start]\n",
    "    arr[pivot_index],arr[end]=arr[end],arr[pivot_index]\n",
    "    return end\n",
    "\n",
    "def quicksort(arr,start,end):\n",
    "    if start < end:\n",
    "        pi=partition(arr,start,end)\n",
    "        quicksort(arr,start,pi-1)\n",
    "        quicksort(arr,pi+1,end)\n",
    "\n",
    "if __name__=='__main__':\n",
    "    test=[[5,2,3,4,6,4,9,4],\n",
    "         [5],\n",
    "         [],\n",
    "         [5,6,4,8,5,4,1,6,1,5,4]]\n",
    "    for arr in test:\n",
    "        quicksort(arr,0,len(arr)-1)\n",
    "        print(arr)"
   ]
  },
  {
   "cell_type": "code",
   "execution_count": null,
   "id": "b2830c0f",
   "metadata": {},
   "outputs": [],
   "source": []
  }
 ],
 "metadata": {
  "kernelspec": {
   "display_name": "Python 3 (ipykernel)",
   "language": "python",
   "name": "python3"
  },
  "language_info": {
   "codemirror_mode": {
    "name": "ipython",
    "version": 3
   },
   "file_extension": ".py",
   "mimetype": "text/x-python",
   "name": "python",
   "nbconvert_exporter": "python",
   "pygments_lexer": "ipython3",
   "version": "3.9.13"
  }
 },
 "nbformat": 4,
 "nbformat_minor": 5
}
