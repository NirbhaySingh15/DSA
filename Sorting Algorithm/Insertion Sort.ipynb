{
 "cells": [
  {
   "cell_type": "code",
   "execution_count": 1,
   "id": "d2a2db1b",
   "metadata": {},
   "outputs": [
    {
     "name": "stdout",
     "output_type": "stream",
     "text": [
      "[2, 3, 4, 4, 4, 5, 6, 9]\n",
      "[5]\n",
      "[]\n",
      "[1, 1, 4, 4, 4, 5, 5, 5, 6, 6, 8]\n"
     ]
    }
   ],
   "source": [
    "def insertionSort(arr):\n",
    "    for i in range(1,len(arr)):\n",
    "        a=arr[i]\n",
    "        j=i-1\n",
    "        while j >=0 and arr[j]>a:\n",
    "            arr[j+1]=arr[j]\n",
    "            j-=1\n",
    "        arr[j+1]=a\n",
    "    return arr\n",
    "\n",
    "if __name__=='__main__':\n",
    "    test=[[5,2,3,4,6,4,9,4],\n",
    "         [5],\n",
    "         [],\n",
    "         [5,6,4,8,5,4,1,6,1,5,4]]\n",
    "    for arr in test:\n",
    "        print(insertionSort(arr))"
   ]
  },
  {
   "cell_type": "code",
   "execution_count": null,
   "id": "2ce1ffcf",
   "metadata": {},
   "outputs": [],
   "source": []
  }
 ],
 "metadata": {
  "kernelspec": {
   "display_name": "Python 3 (ipykernel)",
   "language": "python",
   "name": "python3"
  },
  "language_info": {
   "codemirror_mode": {
    "name": "ipython",
    "version": 3
   },
   "file_extension": ".py",
   "mimetype": "text/x-python",
   "name": "python",
   "nbconvert_exporter": "python",
   "pygments_lexer": "ipython3",
   "version": "3.9.13"
  }
 },
 "nbformat": 4,
 "nbformat_minor": 5
}
