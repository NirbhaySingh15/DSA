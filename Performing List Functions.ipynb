{
 "cells": [
  {
   "cell_type": "code",
   "execution_count": 2,
   "id": "eac37c9a",
   "metadata": {},
   "outputs": [
    {
     "name": "stdout",
     "output_type": "stream",
     "text": [
      "12\n",
      " insert 0 5\n",
      " append 5\n",
      " append 8\n",
      " print\n",
      "[5, 5, 8]\n",
      " pop\n",
      " append 6\n",
      " sort\n",
      " print\n",
      "[5, 5, 6]\n",
      " reverse\n",
      " print\n",
      "[6, 5, 5]\n",
      " remove\n",
      " print\n",
      "[5, 5]\n"
     ]
    }
   ],
   "source": [
    "if __name__ == '__main__':\n",
    "    N = int(input())\n",
    "    lst=[]\n",
    "    for i in range(N):\n",
    "        inp=input().split(' ')\n",
    "        if inp[0]=='insert':\n",
    "            lst.insert(int(inp[1]),int(inp[2]))\n",
    "        elif inp[0]=='print':\n",
    "            print(lst)\n",
    "        elif inp[0]=='remove':\n",
    "            lst.remove(int(inp[1]))\n",
    "        elif inp[0]=='append':\n",
    "            lst.append(int(inp[1]))\n",
    "        elif inp[0]=='sort':\n",
    "            lst.sort()\n",
    "        elif inp[0]=='pop':\n",
    "            lst.pop()\n",
    "        elif inp[0]=='reverse':\n",
    "            lst.reverse()\n",
    "        else:\n",
    "            print('Invalid Input')"
   ]
  }
 ],
 "metadata": {
  "kernelspec": {
   "display_name": "Python 3 (ipykernel)",
   "language": "python",
   "name": "python3"
  },
  "language_info": {
   "codemirror_mode": {
    "name": "ipython",
    "version": 3
   },
   "file_extension": ".py",
   "mimetype": "text/x-python",
   "name": "python",
   "nbconvert_exporter": "python",
   "pygments_lexer": "ipython3",
   "version": "3.9.13"
  }
 },
 "nbformat": 4,
 "nbformat_minor": 5
}
